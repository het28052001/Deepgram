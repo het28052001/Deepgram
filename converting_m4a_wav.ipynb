{
 "cells": [
  {
   "cell_type": "code",
   "execution_count": null,
   "metadata": {},
   "outputs": [],
   "source": [
    "from pydub import AudioSegment\n",
    "import os\n",
    "\n",
    "# Directory containing the M4A files\n",
    "input_folder = '/home/dhruvi/Desktop/deepgram/swear words in french'\n",
    "# Output folder for WAV files\n",
    "output_folder = '/home/dhruvi/Desktop/deepgram/wav_4'\n",
    "\n",
    "# Ensure the output folder exists\n",
    "os.makedirs(output_folder, exist_ok=True)\n",
    "\n",
    "# List all the files in the input folder\n",
    "for filename in os.listdir(input_folder):\n",
    "    if filename.endswith('.m4a'):\n",
    "        input_file = os.path.join(input_folder, filename)\n",
    "        # Generate the output file path by changing the extension to .wav\n",
    "        output_file = os.path.join(output_folder, os.path.splitext(filename)[0] + '.wav')\n",
    "\n",
    "        # Load the M4A file\n",
    "        audio = AudioSegment.from_file(input_file, format=\"m4a\")\n",
    "\n",
    "        # Export it as a WAV file\n",
    "        audio.export(output_file, format=\"wav\")\n",
    "\n",
    "        print(f'Converted: {input_file} -> {output_file}')\n",
    "\n",
    "print('Conversion complete.')"
   ]
  }
 ],
 "metadata": {
  "language_info": {
   "name": "python"
  },
  "orig_nbformat": 4
 },
 "nbformat": 4,
 "nbformat_minor": 2
}
