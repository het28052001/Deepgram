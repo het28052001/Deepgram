{
 "cells": [
  {
   "cell_type": "code",
   "execution_count": 1,
   "metadata": {},
   "outputs": [
    {
     "name": "stdout",
     "output_type": "stream",
     "text": [
      "{'best_match': 'chicken', 'detected_language': 'en', 'similarity_score': 1.0, 'transcribed_text': 'Chicken.'}\n"
     ]
    }
   ],
   "source": [
    "import requests\n",
    "\n",
    "url = \" http://127.0.0.1:5002/speech-to-text\"  # Use the correct URL\n",
    "audio_file_path = \"/home/dhruvi/Desktop/deepgram/Record (online-voice-recorder.com) (1).mp3\"  # Provide the path to your audio file\n",
    "\n",
    "# Send a POST request with the audio file\n",
    "files = {'audio': open(audio_file_path, 'rb')}\n",
    "response = requests.post(url, files=files)\n",
    "\n",
    "print(response.json())  # Print the response from the server\n"
   ]
  }
 ],
 "metadata": {
  "kernelspec": {
   "display_name": "Python 3",
   "language": "python",
   "name": "python3"
  },
  "language_info": {
   "codemirror_mode": {
    "name": "ipython",
    "version": 3
   },
   "file_extension": ".py",
   "mimetype": "text/x-python",
   "name": "python",
   "nbconvert_exporter": "python",
   "pygments_lexer": "ipython3",
   "version": "3.8.10"
  },
  "orig_nbformat": 4
 },
 "nbformat": 4,
 "nbformat_minor": 2
}
