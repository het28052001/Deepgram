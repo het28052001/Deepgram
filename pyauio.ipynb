{
 "cells": [
  {
   "cell_type": "code",
   "execution_count": 22,
   "metadata": {},
   "outputs": [
    {
     "name": "stdout",
     "output_type": "stream",
     "text": [
      "Converting audio transcripts into text ...\n",
      "Lassie\n"
     ]
    }
   ],
   "source": [
    "import speech_recognition as sr\n",
    "\n",
    "# Initialize recognizer class (for recognizing the speech)\n",
    "r = sr.Recognizer()\n",
    "\n",
    "# Reading Audio file as source\n",
    "with sr.AudioFile('/home/dhruvi/Desktop/deepgram/wav_1/assiette.wav') as source:\n",
    "    \n",
    "    audio_text = r.listen(source)\n",
    "    \n",
    "# recoginize_() method will throw a request error if the API is unreachable, hence using exception handling\n",
    "    try:\n",
    "        \n",
    "        # using google speech recognition\n",
    "        text = r.recognize_google(audio_text, language = \"fr-FR\")\n",
    "        print('Converting audio transcripts into text ...')\n",
    "        print(text)\n",
    "     \n",
    "    except:\n",
    "         print('Sorry.. run again...')"
   ]
  },
  {
   "cell_type": "code",
   "execution_count": 17,
   "metadata": {},
   "outputs": [
    {
     "name": "stdout",
     "output_type": "stream",
     "text": [
      "Converted: /home/dhruvi/Desktop/deepgram/french words only/Ancien.m4a -> /home/dhruvi/Desktop/deepgram/wav_3/Ancien.wav\n",
      "Converted: /home/dhruvi/Desktop/deepgram/french words only/La.m4a -> /home/dhruvi/Desktop/deepgram/wav_3/La.wav\n",
      "Converted: /home/dhruvi/Desktop/deepgram/french words only/La bas.m4a -> /home/dhruvi/Desktop/deepgram/wav_3/La bas.wav\n",
      "Converted: /home/dhruvi/Desktop/deepgram/french words only/Appel téléphonique.m4a -> /home/dhruvi/Desktop/deepgram/wav_3/Appel téléphonique.wav\n",
      "Converted: /home/dhruvi/Desktop/deepgram/french words only/Cuisinière.m4a -> /home/dhruvi/Desktop/deepgram/wav_3/Cuisinière.wav\n",
      "Converted: /home/dhruvi/Desktop/deepgram/french words only/Cochonnerie.m4a -> /home/dhruvi/Desktop/deepgram/wav_3/Cochonnerie.wav\n",
      "Converted: /home/dhruvi/Desktop/deepgram/french words only/Lawnmower.m4a -> /home/dhruvi/Desktop/deepgram/wav_3/Lawnmower.wav\n",
      "Converted: /home/dhruvi/Desktop/deepgram/french words only/Sous vêtement.m4a -> /home/dhruvi/Desktop/deepgram/wav_3/Sous vêtement.wav\n",
      "Converted: /home/dhruvi/Desktop/deepgram/french words only/Poile.m4a -> /home/dhruvi/Desktop/deepgram/wav_3/Poile.wav\n",
      "Converted: /home/dhruvi/Desktop/deepgram/french words only/Fin.m4a -> /home/dhruvi/Desktop/deepgram/wav_3/Fin.wav\n",
      "Converted: /home/dhruvi/Desktop/deepgram/french words only/Coup de fil.m4a -> /home/dhruvi/Desktop/deepgram/wav_3/Coup de fil.wav\n",
      "Converted: /home/dhruvi/Desktop/deepgram/french words only/Tiguidou.m4a -> /home/dhruvi/Desktop/deepgram/wav_3/Tiguidou.wav\n",
      "Converted: /home/dhruvi/Desktop/deepgram/french words only/Quétaine.m4a -> /home/dhruvi/Desktop/deepgram/wav_3/Quétaine.wav\n",
      "Conversion complete.\n"
     ]
    }
   ],
   "source": [
    "from pydub import AudioSegment\n",
    "import os\n",
    "\n",
    "# Directory containing the M4A files\n",
    "input_folder = '/home/dhruvi/Desktop/deepgram/french words only'\n",
    "# Output folder for WAV files\n",
    "output_folder = '/home/dhruvi/Desktop/deepgram/wav_3'\n",
    "\n",
    "# Ensure the output folder exists\n",
    "os.makedirs(output_folder, exist_ok=True)\n",
    "\n",
    "# List all the files in the input folder\n",
    "for filename in os.listdir(input_folder):\n",
    "    if filename.endswith('.m4a'):\n",
    "        input_file = os.path.join(input_folder, filename)\n",
    "        # Generate the output file path by changing the extension to .wav\n",
    "        output_file = os.path.join(output_folder, os.path.splitext(filename)[0] + '.wav')\n",
    "\n",
    "        # Load the M4A file\n",
    "        audio = AudioSegment.from_file(input_file, format=\"m4a\")\n",
    "\n",
    "        # Export it as a WAV file\n",
    "        audio.export(output_file, format=\"wav\")\n",
    "\n",
    "        print(f'Converted: {input_file} -> {output_file}')\n",
    "\n",
    "print('Conversion complete.')"
   ]
  },
  {
   "cell_type": "code",
   "execution_count": 18,
   "metadata": {},
   "outputs": [
    {
     "name": "stdout",
     "output_type": "stream",
     "text": [
      "Processed: Poile.wav\n",
      "Processed: Cuisinière.wav\n",
      "No speech detected in: Fin.wav\n",
      "Processed: Coup de fil.wav\n",
      "Processed: Ancien.wav\n",
      "Processed: Lawnmower.wav\n",
      "Processed: Quétaine.wav\n",
      "Processed: Tiguidou.wav\n",
      "Processed: La bas.wav\n",
      "Processed: Appel téléphonique.wav\n",
      "No speech detected in: La.wav\n",
      "Processed: Sous vêtement.wav\n",
      "Processed: Cochonnerie.wav\n",
      "Results have been saved to results.csv\n"
     ]
    }
   ],
   "source": [
    "import os\n",
    "import speech_recognition as sr\n",
    "import csv\n",
    "\n",
    "# Initialize recognizer class (for recognizing the speech)\n",
    "r = sr.Recognizer()\n",
    "\n",
    "# Directory containing your audio files\n",
    "directory = '/home/dhruvi/Desktop/deepgram/wav_3'\n",
    "\n",
    "# Initialize a list to store the results\n",
    "results = []\n",
    "\n",
    "# Loop through all files in the directory\n",
    "for filename in os.listdir(directory):\n",
    "    if filename.endswith(\".wav\"):\n",
    "        audio_file_path = os.path.join(directory, filename)\n",
    "        \n",
    "        with sr.AudioFile(audio_file_path) as source:\n",
    "            audio_text = r.listen(source)\n",
    "            \n",
    "            try:\n",
    "                # using google speech recognition\n",
    "                text = r.recognize_google(audio_text, language=\"fr-FR\")\n",
    "                results.append((filename, text))\n",
    "                print(f\"Processed: {filename}\")\n",
    "            except sr.UnknownValueError:\n",
    "                print(f\"No speech detected in: {filename}\")\n",
    "            except sr.RequestError as e:\n",
    "                print(f\"Could not request results for {filename}; {e}\")\n",
    "\n",
    "# Store the results in a CSV file\n",
    "csv_file_path = '/home/dhruvi/Desktop/deepgram/results.csv'\n",
    "with open(csv_file_path, mode='w', newline='') as file:\n",
    "    writer = csv.writer(file)\n",
    "    writer.writerow(['Filename', 'Transcript'])\n",
    "    writer.writerows(results)\n",
    "\n",
    "print(\"Results have been saved to results.csv\")\n"
   ]
  }
 ],
 "metadata": {
  "kernelspec": {
   "display_name": "Python 3",
   "language": "python",
   "name": "python3"
  },
  "language_info": {
   "codemirror_mode": {
    "name": "ipython",
    "version": 3
   },
   "file_extension": ".py",
   "mimetype": "text/x-python",
   "name": "python",
   "nbconvert_exporter": "python",
   "pygments_lexer": "ipython3",
   "version": "3.8.10"
  },
  "orig_nbformat": 4
 },
 "nbformat": 4,
 "nbformat_minor": 2
}
