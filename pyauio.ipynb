{
 "cells": [
  {
   "cell_type": "code",
   "execution_count": 1,
   "metadata": {},
   "outputs": [
    {
     "name": "stdout",
     "output_type": "stream",
     "text": [
      "Converting audio transcripts into text ...\n",
      "tu as pas de couilles\n"
     ]
    }
   ],
   "source": [
    "import speech_recognition as sr\n",
    "\n",
    "# Initialize recognizer class (for recognizing the speech)\n",
    "r = sr.Recognizer()\n",
    "\n",
    "# Reading Audio file as source\n",
    "with sr.AudioFile('/home/dhruvi/Desktop/deepgram/wav_4/Ta pas de couilles.wav') as source:\n",
    "    \n",
    "    audio_text = r.listen(source)\n",
    "    \n",
    "# recoginize_() method will throw a request error if the API is unreachable, hence using exception handling\n",
    "    try:\n",
    "        \n",
    "        # using google speech recognition\n",
    "        text = r.recognize_google(audio_text, language = \"fr-FR\")\n",
    "        print('Converting audio transcripts into text ...')\n",
    "        print(text)\n",
    "     \n",
    "    except:\n",
    "         print('Sorry.. run again...')"
   ]
  },
  {
   "cell_type": "markdown",
   "metadata": {},
   "source": [
    "Adjusting the voice\n"
   ]
  },
  {
   "cell_type": "code",
   "execution_count": 32,
   "metadata": {},
   "outputs": [
    {
     "name": "stdout",
     "output_type": "stream",
     "text": [
      "Converting audio transcripts into text ...\n",
      "tu as pas de couilles\n"
     ]
    }
   ],
   "source": [
    "import speech_recognition as sr\n",
    "\n",
    "# Initialize recognizer class (for recognizing the speech)\n",
    "r = sr.Recognizer()\n",
    "\n",
    "# Replace this path with the path to your audio file\n",
    "audio_file_path = '/home/dhruvi/Desktop/deepgram/wav_2/Alphabet 3 syl.wav'\n",
    "\n",
    "# Reading Audio file as source\n",
    "with sr.AudioFile(audio_file_path) as source:\n",
    "    # Adjust audio sensitivity (energy_threshold) for better performance\n",
    "    r.adjust_for_ambient_noise(source, duration=0.5)\n",
    "    audio_text = r.listen(source)\n",
    "\n",
    "# recoginize_() method will throw a request error if the API is unreachable, hence using exception handling\n",
    "try:\n",
    "        \n",
    "        # using google speech recognition\n",
    "        text = r.recognize_google(audio_text, language = \"fr-FR\")\n",
    "        print('Converting audio transcripts into text ...')\n",
    "        print(text)\n",
    "     \n",
    "except:\n",
    "        print('Sorry.. run again...')"
   ]
  },
  {
   "cell_type": "markdown",
   "metadata": {},
   "source": [
    "#Slow down voice"
   ]
  },
  {
   "cell_type": "code",
   "execution_count": 80,
   "metadata": {},
   "outputs": [],
   "source": [
    "import numpy as np\n",
    "from scipy.io import wavfile\n",
    "# Load the audio file\n",
    "sample_rate, audio_data = wavfile.read(\"//home/dhruvi/Desktop/deepgram/wav_2/Joie.wav\")\n",
    "# Set the speed factor for slowing down (e.g., 0.5 for half speed)\n",
    "speed_factor = 0.7\n",
    "# Slow down the audio\n",
    "slow_audio_data = np.interp(np.arange(0, len(audio_data), speed_factor), np.arange(0, len(audio_data)), audio_data).astype(audio_data.dtype)\n",
    "# Export the slowed down audio to a new file\n",
    "wavfile.write(\"slow_audio.wav\", sample_rate, slow_audio_data)"
   ]
  },
  {
   "cell_type": "markdown",
   "metadata": {},
   "source": [
    "Processing the folder to slow down the voice"
   ]
  },
  {
   "cell_type": "code",
   "execution_count": 97,
   "metadata": {},
   "outputs": [],
   "source": [
    "import os\n",
    "import numpy as np\n",
    "from scipy.io import wavfile\n",
    "\n",
    "# Set the speed factor for slowing down (e.g., 0.5 for half speed)\n",
    "speed_factor = 0.8\n",
    "\n",
    "# Input and output folders\n",
    "input_folder = \"//home/dhruvi/Desktop/deepgram/wav_4/\"\n",
    "output_folder = \"//home/dhruvi/Desktop/deepgram/slowed_down_audios_3/\"\n",
    "\n",
    "# Ensure the output folder exists, create it if necessary\n",
    "os.makedirs(output_folder, exist_ok=True)\n",
    "\n",
    "# List all audio files in the input folder\n",
    "audio_files = [f for f in os.listdir(input_folder) if f.endswith('.wav')]\n",
    "\n",
    "# Loop through each audio file\n",
    "for audio_file in audio_files:\n",
    "    # Load the audio file\n",
    "    input_path = os.path.join(input_folder, audio_file)\n",
    "    sample_rate, audio_data = wavfile.read(input_path)\n",
    "\n",
    "    # Slow down the audio\n",
    "    slow_audio_data = np.interp(np.arange(0, len(audio_data), speed_factor), np.arange(0, len(audio_data)), audio_data).astype(audio_data.dtype)\n",
    "\n",
    "    # Create the output path for the slowed-down audio\n",
    "    output_path = os.path.join(output_folder, f\"slow_{audio_file}\")\n",
    "\n",
    "    # Export the slowed-down audio to a new file\n",
    "    wavfile.write(output_path, sample_rate, slow_audio_data)\n"
   ]
  },
  {
   "cell_type": "markdown",
   "metadata": {},
   "source": [
    "Processing the folder for the transcription"
   ]
  },
  {
   "cell_type": "code",
   "execution_count": null,
   "metadata": {},
   "outputs": [],
   "source": [
    "import os\n",
    "import speech_recognition as sr\n",
    "import csv\n",
    "\n",
    "# Initialize recognizer class (for recognizing the speech)\n",
    "r = sr.Recognizer()\n",
    "\n",
    "# Directory containing your audio files\n",
    "directory = '/home/dhruvi/Desktop/deepgram/slowed_down_audios_3'\n",
    "\n",
    "# Initialize a list to store the results\n",
    "results = []\n",
    "\n",
    "# Loop through all files in the directory\n",
    "for filename in os.listdir(directory):\n",
    "    if filename.endswith(\".wav\"):\n",
    "        audio_file_path = os.path.join(directory, filename)\n",
    "        \n",
    "        with sr.AudioFile(audio_file_path) as source:\n",
    "            audio_text = r.listen(source)\n",
    "            \n",
    "            \n",
    "            try:\n",
    "                # using google speech recognition\n",
    "                text = r.recognize_google(audio_text, language=\"fr-FR\")\n",
    "                results.append((filename, text))\n",
    "                print(f\"Processed: {filename}\")\n",
    "            except sr.UnknownValueError:\n",
    "                print(f\"No speech detected in: {filename}\")\n",
    "            except sr.RequestError as e:\n",
    "                print(f\"Could not request results for {filename}; {e}\")\n",
    "\n",
    "# Store the results in a CSV file\n",
    "csv_file_path = '/home/dhruvi/Desktop/deepgram/results.csv'\n",
    "with open(csv_file_path, mode='w', newline='') as file:\n",
    "    writer = csv.writer(file)\n",
    "    writer.writerow(['Filename', 'Transcript'])\n",
    "    writer.writerows(results)\n",
    "\n",
    "print(\"Results have been saved to results.csv\")\n"
   ]
  }
 ],
 "metadata": {
  "kernelspec": {
   "display_name": "Python 3",
   "language": "python",
   "name": "python3"
  },
  "language_info": {
   "codemirror_mode": {
    "name": "ipython",
    "version": 3
   },
   "file_extension": ".py",
   "mimetype": "text/x-python",
   "name": "python",
   "nbconvert_exporter": "python",
   "pygments_lexer": "ipython3",
   "version": "3.8.10"
  },
  "orig_nbformat": 4
 },
 "nbformat": 4,
 "nbformat_minor": 2
}
